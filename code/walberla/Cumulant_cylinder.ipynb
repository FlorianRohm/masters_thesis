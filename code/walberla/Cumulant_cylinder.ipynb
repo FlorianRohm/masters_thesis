{
 "cells": [
  {
   "cell_type": "markdown",
   "metadata": {
    "collapsed": false
   },
   "source": [
    "# Cumulant LBM\n",
    "\n",
    "Setup almost as in Tutorial - only x direction is not periodic any more\n"
   ]
  },
  {
   "cell_type": "code",
   "execution_count": null,
   "metadata": {
    "collapsed": true
   },
   "outputs": [],
   "source": [
    "from waLBerla import *\n",
    "from material.matplotlib_setup import *\n",
    "import waLBerla.plot as wplt\n",
    "\n",
    "blocks = createUniformBlockGrid( cells=(300,100,1), periodic=(0,0,1) )\n",
    "\n",
    "omega = 1.9\n",
    "collisionModel =lbm.collisionModels.SRT( omega )\n",
    "forceModel = lbm.forceModels.SimpleConstant( (0,0,0) )\n",
    "latticeModel = lbm.makeLatticeModel( \"D2Q9\", collisionModel, forceModel, compressible=True )\n",
    "lbm.addPdfFieldToStorage( blocks, \"pdfs\", latticeModel, velocityAdaptor=\"vel\", densityAdaptor=\"rho\", initialDensity=1.0 )"
   ]
  },
  {
   "cell_type": "markdown",
   "metadata": {},
   "source": [
    "Here is the important change: even if we you do not really make use of the lattice models here since you use custom collide - the lattice model is used to setup the pdf field. There are two modes: \n",
    "- compressible, pdfs are centered around 1\n",
    "- incompressible, pdfs are centered around 0 for better numeric accuracy\n",
    "\n",
    "Yes, the terminology is totally misleading :) \n",
    "\n",
    "However, here the simple solution is to just use \"compressible=True\"\n",
    "\n",
    "In the next cell you can check the density:"
   ]
  },
  {
   "cell_type": "code",
   "execution_count": null,
   "metadata": {
    "collapsed": false
   },
   "outputs": [],
   "source": [
    "from getCollide import getDensity\n",
    "\n",
    "# Get the density manually\n",
    "def  printDensity(blocks):\n",
    "    pdfField = field.toArray( blocks[0]['pdfs'] )\n",
    "    density=getDensity( pdfField, 0,0 )\n",
    "    #print(density)\n",
    "    \n",
    "# you can also C++ adaptor for this\n",
    "def printDensityAdaptor( blocks ):\n",
    "    rho = field.toArray( blocks[0]['rho'] ).squeeze()\n",
    "    #print( rho )\n",
    "\n",
    "    \n",
    "# same with velocity\n",
    "def printVelAdaptor( blocks ):\n",
    "    print( field.toArray( blocks[0]['vel'])[:,:,:,:1].squeeze() )\n",
    "\n",
    "    \n",
    "printDensity(blocks)\n",
    "printDensityAdaptor( blocks )"
   ]
  },
  {
   "cell_type": "code",
   "execution_count": null,
   "metadata": {
    "collapsed": false
   },
   "outputs": [],
   "source": [
    "field.addFlagFieldToStorage( blocks, 'flags' )\n",
    "lbm.addBoundaryHandlingToStorage( blocks, 'boundary', 'pdfs', 'flags' )\n",
    "sweep = lbm.makeCellwiseSweep( blocks, \"pdfs\", flagFieldID='flags', flagList=['fluid'] )"
   ]
  },
  {
   "cell_type": "markdown",
   "metadata": {},
   "source": [
    "Here I also made a change: the channel is now driven by pressure boundaries instead of a body force."
   ]
  },
  {
   "cell_type": "code",
   "execution_count": null,
   "metadata": {
    "collapsed": false
   },
   "outputs": [],
   "source": [
    "def setBoundariesChannel( blocks, boundaryHandlingID ):\n",
    "    for block in blocks:\n",
    "        b = block[ boundaryHandlingID ]        \n",
    "        if block.atDomainMinBorder[0]:\n",
    "            b.forceBoundary( \"Pressure\", makeSlice[ 0,:, :, 'g'], { 'latticeDensity': 1.1} )\n",
    "        if block.atDomainMaxBorder[0]:\n",
    "            b.forceBoundary( \"Pressure\", makeSlice[ -1,:, :,'g'], { 'latticeDensity': 1.00}  )        \n",
    "        if block.atDomainMinBorder[1]:\n",
    "            b.forceBoundary( 'NoSlip',   makeSlice[ :, 0, :, 'g'] )\n",
    "        if block.atDomainMaxBorder[1]:\n",
    "            b.forceBoundary( 'NoSlip',   makeSlice[ :,-1, :, 'g'] )\n",
    "           \n",
    "        b.fillWithDomain()\n",
    "setBoundariesChannel( blocks, 'boundary' )"
   ]
  },
  {
   "cell_type": "code",
   "execution_count": null,
   "metadata": {
    "collapsed": true
   },
   "outputs": [],
   "source": [
    "communication = createUniformBufferedScheme( blocks, 'D2Q9')\n",
    "communication.addDataToCommunicate( field.createPackInfo( blocks, 'pdfs') )"
   ]
  },
  {
   "cell_type": "markdown",
   "metadata": {},
   "source": [
    "Add the Obstacle"
   ]
  },
  {
   "cell_type": "code",
   "execution_count": null,
   "metadata": {
    "collapsed": false
   },
   "outputs": [],
   "source": [
    "from waLBerla.geometry_setup import *\n",
    "setBoundaryFromBlackAndWhiteImage( blocks, \"boundary\", makeSlice[0.:0.4, 0.3:0.6 ,0.5], \"material/circle.png\", \"NoSlip\" )"
   ]
  },
  {
   "cell_type": "markdown",
   "metadata": {},
   "source": [
    "Use your collision operation instead of the waLBerla one"
   ]
  },
  {
   "cell_type": "code",
   "execution_count": null,
   "metadata": {
    "collapsed": false
   },
   "outputs": [],
   "source": [
    "from getCollide import getCollide\n",
    "\n",
    "collide = getCollide(omega)\n",
    "\n",
    "def run( timesteps ):\n",
    "    for t in range(timesteps):\n",
    "        communication()\n",
    "        for block in blocks: block['boundary']()\n",
    "        for block in blocks: sweep.stream( block )\n",
    "        for block in blocks: collide(block)\n",
    "        #for block in blocks: sweep.collide(block)"
   ]
  },
  {
   "cell_type": "code",
   "execution_count": null,
   "metadata": {
    "collapsed": true
   },
   "outputs": [],
   "source": [
    "def setByMask( blocks, targetField, targetValue, flagField, flagNames ):\n",
    "    for b in blocks:\n",
    "        mask = 0\n",
    "        for flagName in flagNames:\n",
    "            mask |= b[flagField].flag(flagName)\n",
    "\n",
    "        targetArr = field.toArray( b[targetField], True )\n",
    "        flagArr   = field.toArray( b[flagField]  , True )[:,:,:,0]\n",
    "        targetArr[ np.bitwise_and( flagArr, mask ) > 0, : ] = targetValue\n",
    "\n",
    "\n",
    "def visualizationStep():\n",
    "    run(10)\n",
    "    # Set pdfs to NaN in NoSlip cells:\n",
    "    setFieldUsingFlagMask(blocks, 'pdfs', np.NaN, 'flags', ['NoSlip'] )"
   ]
  },
  {
   "cell_type": "code",
   "execution_count": null,
   "metadata": {
    "collapsed": false
   },
   "outputs": [],
   "source": [
    "from IPython import display\n",
    "run( 1700 )\n",
    "for i in range(1000):\n",
    "    run( 10 )\n",
    "    wplt.scalarField( blocks, 'rho', makeSlice[:,:,0.5] )\n",
    "    display.display( wplt.gcf() )\n",
    "    display.clear_output(wait=True)"
   ]
  },
  {
   "cell_type": "markdown",
   "metadata": {},
   "source": [
    "The density field is unfortunately not symmetric - probably a bug in your collision.\n",
    "I suspect that the reason is the mapping of fourth coordinate to direction.\n",
    "\n",
    "The mapping for D2Q9 is: (north-south is y coordinate, east-west is x coordinate)"
   ]
  },
  {
   "cell_type": "code",
   "execution_count": null,
   "metadata": {
    "collapsed": false
   },
   "outputs": [],
   "source": [
    "D2Q9 = { stencil.Direction.C : 0,\n",
    "         stencil.Direction.N : 1,\n",
    "         stencil.Direction.S : 2,\n",
    "         stencil.Direction.W : 3,\n",
    "         stencil.Direction.E : 4,\n",
    "         stencil.Direction.NW :5,\n",
    "         stencil.Direction.NE: 6,\n",
    "         stencil.Direction.SW :7,\n",
    "         stencil.Direction.SE :8,}"
   ]
  },
  {
   "cell_type": "code",
   "execution_count": null,
   "metadata": {
    "collapsed": true
   },
   "outputs": [],
   "source": []
  }
 ],
 "metadata": {
  "kernelspec": {
   "display_name": "Python 3",
   "language": "python",
   "name": "python3"
  },
  "language_info": {
   "codemirror_mode": {
    "name": "ipython",
    "version": 3
   },
   "file_extension": ".py",
   "mimetype": "text/x-python",
   "name": "python",
   "nbconvert_exporter": "python",
   "pygments_lexer": "ipython3",
   "version": "3.4.3+"
  }
 },
 "nbformat": 4,
 "nbformat_minor": 0
}
